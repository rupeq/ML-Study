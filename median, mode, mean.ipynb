{
 "cells": [
  {
   "cell_type": "markdown",
   "metadata": {},
   "source": [
    "# Mean, Meadian, Mode"
   ]
  },
  {
   "cell_type": "code",
   "execution_count": 3,
   "metadata": {},
   "outputs": [],
   "source": [
    "import numpy as np\n",
    "import matplotlib.pyplot as plt\n",
    "from scipy import stats"
   ]
  },
  {
   "cell_type": "code",
   "execution_count": 4,
   "metadata": {},
   "outputs": [
    {
     "data": {
      "text/plain": [
       "27161.267045645964"
      ]
     },
     "execution_count": 4,
     "metadata": {},
     "output_type": "execute_result"
    }
   ],
   "source": [
    "incomes = np.random.normal(27000, 15000, 10000)\n",
    "np.mean(incomes)"
   ]
  },
  {
   "cell_type": "code",
   "execution_count": 5,
   "metadata": {},
   "outputs": [
    {
     "data": {
      "image/png": "[encoded data removed]",
      "text/plain": [
       "<Figure size 432x288 with 1 Axes>"
      ]
     },
     "metadata": {
      "needs_background": "light"
     },
     "output_type": "display_data"
    }
   ],
   "source": [
    "plt.hist(incomes, 50)\n",
    "plt.show()"
   ]
  },
  {
   "cell_type": "code",
   "execution_count": 6,
   "metadata": {},
   "outputs": [
    {
     "data": {
      "text/plain": [
       "27085.962527446944"
      ]
     },
     "execution_count": 6,
     "metadata": {},
     "output_type": "execute_result"
    }
   ],
   "source": [
    "np.median(incomes)"
   ]
  },
  {
   "cell_type": "code",
   "execution_count": 7,
   "metadata": {},
   "outputs": [],
   "source": [
    "incomes = np.append(incomes, [1000000000])"
   ]
  },
  {
   "cell_type": "code",
   "execution_count": 8,
   "metadata": {},
   "outputs": [
    {
     "data": {
      "text/plain": [
       "27086.614710109465"
      ]
     },
     "execution_count": 8,
     "metadata": {},
     "output_type": "execute_result"
    }
   ],
   "source": [
    "np.median(incomes)"
   ]
  },
  {
   "cell_type": "code",
   "execution_count": 9,
   "metadata": {},
   "outputs": [
    {
     "data": {
      "text/plain": [
       "127148.55219042693"
      ]
     },
     "execution_count": 9,
     "metadata": {},
     "output_type": "execute_result"
    }
   ],
   "source": [
    "np.mean(incomes)"
   ]
  },
  {
   "cell_type": "markdown",
   "metadata": {},
   "source": [
    "## Mode"
   ]
  },
  {
   "cell_type": "code",
   "execution_count": 10,
   "metadata": {},
   "outputs": [
    {
     "data": {
      "text/plain": [
       "array([76, 55, 35, 51, 32, 55, 45, 75, 51, 31, 64, 84, 31, 52, 46, 35, 46,\n",
       "       41, 88, 41, 83, 49, 85, 85, 46, 84, 62, 22, 33, 70, 55, 59, 62, 23,\n",
       "       38, 74, 22, 50, 82, 65, 27, 71, 78, 87, 24, 68, 30, 45, 55, 64, 79,\n",
       "       62, 66, 76, 78, 37, 50, 46, 76, 50, 83, 43, 82, 87, 78, 56, 61, 71,\n",
       "       78, 44, 42, 85, 67, 59, 27, 88, 26, 35, 72, 30, 47, 43, 40, 49, 72,\n",
       "       37, 52, 72, 39, 64, 54, 76, 51, 36, 21, 86, 48, 79, 38, 51, 62, 50,\n",
       "       35, 89, 69, 84, 88, 36, 36, 84, 24, 28, 85, 85, 70, 40, 42, 66, 19,\n",
       "       80, 39, 73, 64, 79, 46, 70, 44, 50, 63, 75, 73, 49, 89, 44, 84, 18,\n",
       "       74, 53, 26, 78, 72, 25, 33, 46, 88, 68, 88, 77, 54, 45, 51, 49, 71,\n",
       "       33, 27, 69, 65, 89, 54, 74, 48, 31, 75, 49, 72, 28, 87, 54, 70, 73,\n",
       "       81, 66, 86, 41, 61, 81, 56, 82, 72, 22, 69, 21, 81, 72, 80, 60, 83,\n",
       "       77, 69, 66, 73, 58, 85, 83, 88, 79, 74, 49, 49, 23, 20, 24, 78, 56,\n",
       "       59, 36, 44, 73, 54, 59, 20, 29, 85, 23, 49, 30, 33, 67, 22, 52, 23,\n",
       "       49, 57, 56, 61, 74, 51, 83, 85, 19, 27, 84, 56, 40, 48, 26, 48, 76,\n",
       "       38, 73, 71, 31, 86, 31, 19, 34, 36, 25, 59, 86, 73, 59, 27, 49, 36,\n",
       "       35, 78, 53, 74, 25, 56, 48, 23, 88, 75, 32, 40, 20, 87, 82, 79, 28,\n",
       "       81, 61, 33, 57, 86, 66, 27, 38, 78, 28, 63, 28, 70, 35, 48, 64, 75,\n",
       "       50, 42, 34, 85, 51, 26, 49, 81, 86, 71, 34, 54, 41, 54, 83, 87, 63,\n",
       "       28, 58, 72, 20, 41, 87, 89, 75, 62, 48, 52, 49, 84, 72, 78, 73, 47,\n",
       "       27, 80, 18, 46, 55, 58, 82, 33, 57, 20, 41, 46, 63, 74, 69, 54, 23,\n",
       "       56, 71, 62, 18, 66, 61, 27, 63, 65, 80, 65, 42, 55, 71, 48, 43, 42,\n",
       "       39, 71, 49, 85, 50, 89, 47, 58, 79, 29, 80, 51, 86, 34, 44, 42, 78,\n",
       "       19, 23, 80, 22, 88, 41, 26, 63, 75, 85, 74, 35, 54, 50, 44, 31, 58,\n",
       "       41, 53, 44, 51, 38, 69, 68, 53, 51, 37, 57, 88, 28, 79, 42, 51, 36,\n",
       "       52, 26, 83, 28, 21, 73, 46, 38, 51, 56, 40, 20, 67, 76, 68, 28, 69,\n",
       "       66, 41, 27, 68, 42, 79, 21, 65, 46, 68, 54, 69, 69, 70, 31, 32, 68,\n",
       "       65, 45, 31, 67, 69, 67, 25, 44, 22, 81, 85, 81, 87, 35, 70, 24, 78,\n",
       "       43, 18, 81, 30, 52, 34, 84, 24, 20, 72, 38, 34, 52, 26, 25, 76, 43,\n",
       "       28, 26, 35, 19, 24, 74, 78, 78, 21, 35, 27, 23, 19, 84, 52, 60, 22,\n",
       "       44, 74, 52, 51, 61, 44, 41])"
      ]
     },
     "execution_count": 10,
     "metadata": {},
     "output_type": "execute_result"
    }
   ],
   "source": [
    "ages = np.random.randint(18, high=90, size=500)\n",
    "ages"
   ]
  },
  {
   "cell_type": "code",
   "execution_count": 11,
   "metadata": {},
   "outputs": [
    {
     "data": {
      "text/plain": [
       "ModeResult(mode=array([49]), count=array([13]))"
      ]
     },
     "execution_count": 11,
     "metadata": {},
     "output_type": "execute_result"
    }
   ],
   "source": [
    "stats.mode(ages)"
   ]
  },
  {
   "cell_type": "code",
   "execution_count": 15,
   "metadata": {},
   "outputs": [
    {
     "data": {
      "image/png": "[encoded data removed]",
      "text/plain": [
       "<Figure size 432x288 with 1 Axes>"
      ]
     },
     "metadata": {
      "needs_background": "light"
     },
     "output_type": "display_data"
    }
   ],
   "source": [
    "incomes_new = np.random.normal(100.0, 20.0, 10000)\n",
    "plt.hist(incomes, 50)\n",
    "plt.show()"
   ]
  },
  {
   "cell_type": "code",
   "execution_count": 20,
   "metadata": {},
   "outputs": [
    {
     "data": {
      "text/plain": [
       "100.33335407937984"
      ]
     },
     "execution_count": 20,
     "metadata": {},
     "output_type": "execute_result"
    }
   ],
   "source": [
    "np.mean(incomes_new)"
   ]
  },
  {
   "cell_type": "code",
   "execution_count": 19,
   "metadata": {},
   "outputs": [
    {
     "data": {
      "text/plain": [
       "100.11698713723803"
      ]
     },
     "execution_count": 19,
     "metadata": {},
     "output_type": "execute_result"
    }
   ],
   "source": [
    "np.median(incomes_new)"
   ]
  }
 ],
 "metadata": {
  "kernelspec": {
   "display_name": "Python 3",
   "language": "python",
   "name": "python3"
  },
  "language_info": {
   "codemirror_mode": {
    "name": "ipython",
    "version": 3
   },
   "file_extension": ".py",
   "mimetype": "text/x-python",
   "name": "python",
   "nbconvert_exporter": "python",
   "pygments_lexer": "ipython3",
   "version": "3.8.2"
  }
 },
 "nbformat": 4,
 "nbformat_minor": 4
}
